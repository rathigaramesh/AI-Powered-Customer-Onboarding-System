{
 "cells": [
  {
   "cell_type": "markdown",
   "id": "8140b161",
   "metadata": {},
   "source": [
    "Sequential Chats and Customer Onboarding"
   ]
  },
  {
   "cell_type": "markdown",
   "id": "e9d4d307",
   "metadata": {},
   "source": [
    "## Setup"
   ]
  },
  {
   "cell_type": "code",
   "execution_count": 1,
   "id": "24b75995-4ee4-4ff0-9c44-3943caae37e7",
   "metadata": {
    "height": 30
   },
   "outputs": [],
   "source": [
    "# from utils import get_openai_api_key\n",
    "# OPENAI_API_KEY = get_openai_api_key()\n",
    "#print(OPENAI_API_KEY)\n",
    "#llm_config = {\"model\": \"gpt-3.5-turbo\",\"api_key\":OPENAI_API_KEY}"
   ]
  },
  {
   "cell_type": "code",
   "execution_count": 2,
   "id": "bb35b203-d5c8-4509-bf78-627d4cce405e",
   "metadata": {},
   "outputs": [],
   "source": [
    "llm_config = {\"model\": \"gpt-oss:latest\",\"api_type\":\"ollama\"}"
   ]
  },
  {
   "cell_type": "code",
   "execution_count": 4,
   "id": "41d5026e-f04e-4a60-b144-061ea06c1922",
   "metadata": {},
   "outputs": [
    {
     "name": "stdout",
     "output_type": "stream",
     "text": [
      "Ollama server is running! Status code: 200\n"
     ]
    }
   ],
   "source": [
    "# STEP 1: Check Ollama server\n",
    "import requests\n",
    "try:\n",
    "    r = requests.get(\"http://localhost:11434\")\n",
    "    print(\"Ollama server is running! Status code:\", r.status_code)\n",
    "except Exception as e:\n",
    "    print(\"Cannot reach Ollama server:\", e)\n",
    "    exit(1)"
   ]
  },
  {
   "cell_type": "code",
   "execution_count": 6,
   "id": "b40b3c87-f0d8-4fee-93d0-9486562bb54b",
   "metadata": {},
   "outputs": [
    {
     "name": "stdout",
     "output_type": "stream",
     "text": [
      "Model is pulled and available.\n"
     ]
    }
   ],
   "source": [
    "\n",
    "# STEP 2: Check model\n",
    "import subprocess\n",
    "def is_model_pulled(model_name=\"gpt-oss:latest\"):\n",
    "    try:\n",
    "        result = subprocess.run([\"ollama\", \"list\"], capture_output=True, text=True, check=True)\n",
    "        return model_name in result.stdout\n",
    "    except Exception as e:\n",
    "        print(f\"Error checking model list: {e}\")\n",
    "        return False\n",
    "\n",
    "if not is_model_pulled(\"gpt-oss:latest\"):\n",
    "    print(\"Model is NOT pulled.\")\n",
    "    exit(1)\n",
    "print(\"Model is pulled and available.\")"
   ]
  },
  {
   "cell_type": "code",
   "execution_count": 7,
   "id": "20ce6700-8a33-424f-aefe-8852fd1e6d07",
   "metadata": {
    "height": 30
   },
   "outputs": [],
   "source": [
    "from autogen import ConversableAgent"
   ]
  },
  {
   "cell_type": "markdown",
   "id": "76f979f9",
   "metadata": {},
   "source": [
    "## Creating the needed agents"
   ]
  },
  {
   "cell_type": "code",
   "execution_count": 8,
   "id": "a527bb1e-dd4e-47b0-a1b7-a9cbcd87cbdb",
   "metadata": {
    "height": 200
   },
   "outputs": [],
   "source": [
    "from utils import get_openai_api_key\n",
    "OPENAI_API_KEY = get_openai_api_key()\n",
    "\n",
    "llm_config = {\n",
    "    \"model\": \"gpt-oss:latest\",\n",
    "    \"base_url\": \"http://localhost:11434/v1\",  # Ollama REST API endpoint\n",
    "    \"api_key\": \"ollama\",  # dummy key (ignored by Ollama but AutoGen requires it)\n",
    "}\n",
    "\n",
    "from autogen import ConversableAgent\n",
    "\n",
    "onboarding_personal_information_agent = ConversableAgent(\n",
    "    name=\"onboarding_personal_information_agent\",  # Removed spaces\n",
    "    system_message='''You are a helpful customer onboarding agent.\n",
    "    You are here to help new customers get started with our product.\n",
    "    Your job is to gather customer's name and location.\n",
    "    Do not ask for other information. Return 'TERMINATE' \n",
    "    when you have gathered all the information.''',\n",
    "    llm_config=llm_config,\n",
    "    code_execution_config=False,\n",
    "    human_input_mode=\"NEVER\",\n",
    ")\n",
    "\n",
    "onboarding_topic_preference_agent = ConversableAgent(\n",
    "    name=\"onboarding_topic_preference_agent\",  # Removed spaces\n",
    "    system_message='''You are a helpful customer onboarding agent.\n",
    "    You are here to help new customers get started with our product.\n",
    "    Your job is to gather customer's preferences on news topics.\n",
    "    Do not ask for other information.\n",
    "    Return 'TERMINATE' when you have gathered all the information.''',\n",
    "    llm_config=llm_config,\n",
    "    code_execution_config=False,\n",
    "    human_input_mode=\"NEVER\",\n",
    ")\n",
    "\n",
    "customer_engagement_agent = ConversableAgent(\n",
    "    name=\"customer_engagement_agent\",  # Removed spaces\n",
    "    system_message='''You are a helpful customer service agent.\n",
    "    You are here to provide fun for the customer based on the user's\n",
    "    personal information and topic preferences.\n",
    "    This could include fun facts, jokes, or interesting stories.\n",
    "    Make sure to make it engaging and fun!\n",
    "    Return 'TERMINATE' when you are done.''',\n",
    "    llm_config=llm_config,\n",
    "    code_execution_config=False,\n",
    "    human_input_mode=\"NEVER\",\n",
    "    is_termination_msg=lambda msg: \"terminate\" in msg.get(\"content\").lower(),\n",
    ")\n",
    "\n",
    "customer_proxy_agent = ConversableAgent(\n",
    "    name=\"customer_proxy_agent\",\n",
    "    llm_config=False,\n",
    "    code_execution_config=False,\n",
    "    human_input_mode=\"ALWAYS\",\n",
    "    is_termination_msg=lambda msg: \"terminate\" in msg.get(\"content\").lower(),\n",
    ")\n"
   ]
  },
  {
   "cell_type": "markdown",
   "id": "4f240408",
   "metadata": {},
   "source": [
    "## Creating tasks\n",
    "\n",
    "Now, you can craft a series of tasks to facilitate the onboarding process."
   ]
  },
  {
   "cell_type": "code",
   "execution_count": 9,
   "id": "2b15af1d-7042-4569-a936-7966be203f05",
   "metadata": {
    "height": 607
   },
   "outputs": [],
   "source": [
    "chats = [\n",
    "    {\n",
    "        \"sender\": onboarding_personal_information_agent,\n",
    "        \"recipient\": customer_proxy_agent,\n",
    "        \"message\": \"Hello, I'm here to help you get started with our product. Could you tell me your name and location?\",\n",
    "        \"summary_method\": \"reflection_with_llm\",\n",
    "        \"summary_args\": {\n",
    "            \"summary_prompt\": \"Return the customer information as JSON object only: {'name': '', 'location': ''}\",\n",
    "        },\n",
    "        \"max_turns\": 1,\n",
    "        \"clear_history\": True\n",
    "    },\n",
    "    {\n",
    "        \"sender\": onboarding_topic_preference_agent,\n",
    "        \"recipient\": customer_proxy_agent,\n",
    "        \"message\": \"Great! Could you tell me what topics you are interested in reading about?\",\n",
    "        \"summary_method\": \"reflection_with_llm\",\n",
    "        \"max_turns\": 1,\n",
    "        \"clear_history\": False\n",
    "    },\n",
    "    {\n",
    "        \"sender\": customer_proxy_agent,\n",
    "        \"recipient\": customer_engagement_agent,\n",
    "        \"message\": \"Let's find something fun to read.\",\n",
    "        \"max_turns\": 1,\n",
    "        \"summary_method\": \"reflection_with_llm\",\n",
    "    },\n",
    "]"
   ]
  },
  {
   "cell_type": "markdown",
   "id": "862a066b",
   "metadata": {},
   "source": [
    "## Start the onboarding process"
   ]
  },
  {
   "cell_type": "markdown",
   "id": "e0fa8f99",
   "metadata": {},
   "source": [
    "**Note**: You might get a slightly different response than what's shown in the video. Feel free to try different inputs, such as name, location, and preferences."
   ]
  },
  {
   "cell_type": "code",
   "execution_count": 10,
   "id": "9d6d1d4a-0b50-41a5-a1f0-3ff208398bc6",
   "metadata": {
    "height": 64
   },
   "outputs": [
    {
     "name": "stdout",
     "output_type": "stream",
     "text": [
      "\u001b[34m\n",
      "********************************************************************************\u001b[0m\n",
      "\u001b[34mStarting a new chat....\u001b[0m\n",
      "\u001b[34m\n",
      "********************************************************************************\u001b[0m\n",
      "\u001b[33monboarding_personal_information_agent\u001b[0m (to customer_proxy_agent):\n",
      "\n",
      "Hello, I'm here to help you get started with our product. Could you tell me your name and location?\n",
      "\n",
      "--------------------------------------------------------------------------------\n"
     ]
    },
    {
     "name": "stderr",
     "output_type": "stream",
     "text": [
      "C:\\Users\\User\\anaconda3\\envs\\ckd_env_clean\\lib\\site-packages\\autogen\\agentchat\\chat.py:57: UserWarning: Repetitive recipients detected: The chat history will be cleared by default if a recipient appears more than once. To retain the chat history, please set 'clear_history=False' in the configuration of the repeating agent.\n",
      "  warnings.warn(\n"
     ]
    },
    {
     "name": "stdin",
     "output_type": "stream",
     "text": [
      "Replying as customer_proxy_agent. Provide feedback to onboarding_personal_information_agent. Press enter to skip and use auto-reply, or type 'exit' to end the conversation:  Rathiga singapore\n"
     ]
    },
    {
     "name": "stdout",
     "output_type": "stream",
     "text": [
      "\u001b[33mcustomer_proxy_agent\u001b[0m (to onboarding_personal_information_agent):\n",
      "\n",
      "Rathiga singapore\n",
      "\n",
      "--------------------------------------------------------------------------------\n",
      "\u001b[31m\n",
      ">>>>>>>> TERMINATING RUN (35cbb0e5-b117-4905-8f1a-5a84ace3a37e): Maximum turns (1) reached\u001b[0m\n",
      "[autogen.oai.client: 08-09 12:16:19] {714} WARNING - Model gpt-oss:latest is not found. The cost will be 0. In your config_list, add field {\"price\" : [prompt_price_per_1k, completion_token_price_per_1k]} for customized pricing.\n",
      "\u001b[34m\n",
      "********************************************************************************\u001b[0m\n",
      "\u001b[34mStarting a new chat....\u001b[0m\n",
      "\u001b[34m\n",
      "********************************************************************************\u001b[0m\n",
      "\u001b[33monboarding_topic_preference_agent\u001b[0m (to customer_proxy_agent):\n",
      "\n",
      "Great! Could you tell me what topics you are interested in reading about?\n",
      "Context: \n",
      "{\"name\":\"Rathiga\",\"location\":\"Singapore\"}\n",
      "\n",
      "--------------------------------------------------------------------------------\n"
     ]
    },
    {
     "name": "stdin",
     "output_type": "stream",
     "text": [
      "Replying as customer_proxy_agent. Provide feedback to onboarding_topic_preference_agent. Press enter to skip and use auto-reply, or type 'exit' to end the conversation:  Gen AI Agent\n"
     ]
    },
    {
     "name": "stdout",
     "output_type": "stream",
     "text": [
      "\u001b[33mcustomer_proxy_agent\u001b[0m (to onboarding_topic_preference_agent):\n",
      "\n",
      "Gen AI Agent\n",
      "\n",
      "--------------------------------------------------------------------------------\n",
      "\u001b[31m\n",
      ">>>>>>>> TERMINATING RUN (c2200340-63e4-4a67-b0c8-c0c8ec676c5a): Maximum turns (1) reached\u001b[0m\n",
      "[autogen.oai.client: 08-09 12:23:14] {714} WARNING - Model gpt-oss:latest is not found. The cost will be 0. In your config_list, add field {\"price\" : [prompt_price_per_1k, completion_token_price_per_1k]} for customized pricing.\n",
      "\u001b[34m\n",
      "********************************************************************************\u001b[0m\n",
      "\u001b[34mStarting a new chat....\u001b[0m\n",
      "\u001b[34m\n",
      "********************************************************************************\u001b[0m\n",
      "\u001b[33mcustomer_proxy_agent\u001b[0m (to customer_engagement_agent):\n",
      "\n",
      "Let's find something fun to read.\n",
      "Context: \n",
      "{\"name\":\"Rathiga\",\"location\":\"Singapore\"}\n",
      "I’m particularly drawn to content that spans a mix of technology, science, and culture. Here are a few topics I love exploring:\n",
      "\n",
      "1. **Artificial Intelligence & Machine Learning** – From cutting‑edge research to real‑world applications.  \n",
      "2. **Emerging Tech & Gadgets** – Smart cities, wearables, sustainable tech, and quantum computing.  \n",
      "3. **Data Science & Analytics** – Storytelling with data, predictive modeling, and ethical AI concerns.  \n",
      "4. **Health & Wellness Innovation** – Telemedicine, personalized nutrition, and mental health tech.  \n",
      "5. **Sustainability & Climate Solutions** – Circular economy, green infrastructure, and impact investing.  \n",
      "6. **Space Exploration & Astronomy** – Mars missions, exoplanet studies, and the future of space travel.  \n",
      "7. **Cultural Perspectives** – Global arts, film reviews, and the evolving narratives of city life in places like Singapore.  \n",
      "8. **Education & Skill‑building** – Online learning platforms, coding bootcamps, and lifelong learning trends.  \n",
      "\n",
      "Feel free to pitch any article or report on these areas—I’m keen to dive in!\n",
      "\n",
      "--------------------------------------------------------------------------------\n",
      "[autogen.oai.client: 08-09 12:39:55] {714} WARNING - Model gpt-oss:latest is not found. The cost will be 0. In your config_list, add field {\"price\" : [prompt_price_per_1k, completion_token_price_per_1k]} for customized pricing.\n",
      "\u001b[33mcustomer_engagement_agent\u001b[0m (to customer_proxy_agent):\n",
      "\n",
      "🎉 **Your Next Fun Read: “Quantum Quandaries & Quantum City”**  \n",
      "_Why you’ll love it:_ Singapore’s new quantum‑enabled traffic lights are not just saving fuel – they’re rewriting the city’s future. This article explores how Singapore’s Smart Nation initiative is piloting quantum‑secure communication between traffic controllers and autonomous vehicles. We dive into the science behind quantum key distribution, the real‑world challenges of deploying it in urban environments, and a playful thought‑experiment: what if your coffee machine could send a quantum signal to your fridge?  \n",
      "\n",
      "- **Tech Twist** – See a short demo of a quantum algorithm that could cut traffic congestion in half (you might want a traffic‑shoveler app that feels like a science‑fiction gadget!).\n",
      "- **Data‑Science Spin** – The article uses interactive dashboards (built in R, no less) that let you tweak traffic parameters and see how the quantum network adapts in real time.\n",
      "- **Cultural Flavor** – Interviews with local urban planners who explain how the city’s heritage sites are being protected by quantum‑based monitoring sensors.\n",
      "- **Fun Fact** – Quantum entanglement at a traffic light can mean the difference between a *tardiness* and a *timing* glitch! In Singapore’s test, a traffic light’s reaction time improved by 42% thanks to quantum‑boosted data pathways.\n",
      "\n",
      "🕹️ **Playful Side‑Note**  \n",
      "Why did the quantum algorithm refuse to play hide‑and‑seek? Because it always knows where you’ll *be*! 😄\n",
      "\n",
      "🚀 **Takeaway**  \n",
      "Imagine a city where your commutes, your charging stations, and even your rooftop garden all converse via quantum signals – all while respecting privacy and sustainability. This is Singapore’s bold step toward that future.\n",
      "\n",
      "**Ready to explore?** Grab a latte, dive in, and let the quantum city unfold.  \n",
      "\n",
      "---  \n",
      "\n",
      "**TERMINATE**\n",
      "\n",
      "--------------------------------------------------------------------------------\n",
      "\u001b[31m\n",
      ">>>>>>>> TERMINATING RUN (3ec0e39a-9eca-4fd9-a71f-a7e144fe6929): Maximum turns (1) reached\u001b[0m\n",
      "[autogen.oai.client: 08-09 12:46:59] {714} WARNING - Model gpt-oss:latest is not found. The cost will be 0. In your config_list, add field {\"price\" : [prompt_price_per_1k, completion_token_price_per_1k]} for customized pricing.\n"
     ]
    }
   ],
   "source": [
    "from autogen import initiate_chats\n",
    "\n",
    "chat_results = initiate_chats(chats)\n",
    "clear_history=False"
   ]
  },
  {
   "cell_type": "markdown",
   "id": "4f9e2713",
   "metadata": {},
   "source": [
    "## Print out the summary"
   ]
  },
  {
   "cell_type": "code",
   "execution_count": 13,
   "id": "1e122f8a-1ceb-4635-9672-662114b0552a",
   "metadata": {
    "height": 64
   },
   "outputs": [
    {
     "name": "stdout",
     "output_type": "stream",
     "text": [
      "{\"name\":\"Rathiga\",\"location\":\"Singapore\"}\n",
      "\n",
      "\n",
      "I’m particularly drawn to content that spans a mix of technology, science, and culture. Here are a few topics I love exploring:\n",
      "\n",
      "1. **Artificial Intelligence & Machine Learning** – From cutting‑edge research to real‑world applications.  \n",
      "2. **Emerging Tech & Gadgets** – Smart cities, wearables, sustainable tech, and quantum computing.  \n",
      "3. **Data Science & Analytics** – Storytelling with data, predictive modeling, and ethical AI concerns.  \n",
      "4. **Health & Wellness Innovation** – Telemedicine, personalized nutrition, and mental health tech.  \n",
      "5. **Sustainability & Climate Solutions** – Circular economy, green infrastructure, and impact investing.  \n",
      "6. **Space Exploration & Astronomy** – Mars missions, exoplanet studies, and the future of space travel.  \n",
      "7. **Cultural Perspectives** – Global arts, film reviews, and the evolving narratives of city life in places like Singapore.  \n",
      "8. **Education & Skill‑building** – Online learning platforms, coding bootcamps, and lifelong learning trends.  \n",
      "\n",
      "Feel free to pitch any article or report on these areas—I’m keen to dive in!\n",
      "\n",
      "\n",
      "User seeks engaging reads that blend AI, emerging tech, data science, health, sustainability, space, culture, and education, with a Singapore backdrop—Assistant pitched an article on Singapore’s quantum‑enabled smart traffic lights.\n",
      "\n",
      "\n"
     ]
    }
   ],
   "source": [
    "summary=[]\n",
    "for chat_result in chat_results:\n",
    "    print(chat_result.summary)\n",
    "    summary.append(chat_result.summary)\n",
    "    print(\"\\n\")"
   ]
  },
  {
   "cell_type": "code",
   "execution_count": 14,
   "id": "d3959b84-4c73-4483-a79a-800638faa59e",
   "metadata": {},
   "outputs": [
    {
     "data": {
      "text/plain": [
       "'{\"name\":\"Rathiga\",\"location\":\"Singapore\"}'"
      ]
     },
     "execution_count": 14,
     "metadata": {},
     "output_type": "execute_result"
    }
   ],
   "source": [
    "summary[0]"
   ]
  },
  {
   "cell_type": "code",
   "execution_count": 9,
   "id": "5e04aa71-8390-4450-9738-dc69447d3ca0",
   "metadata": {},
   "outputs": [],
   "source": [
    "#!pip install pandas"
   ]
  },
  {
   "cell_type": "code",
   "execution_count": 15,
   "id": "62d02db6-1094-4374-8672-325593368df4",
   "metadata": {},
   "outputs": [
    {
     "data": {
      "text/html": [
       "<div>\n",
       "<style scoped>\n",
       "    .dataframe tbody tr th:only-of-type {\n",
       "        vertical-align: middle;\n",
       "    }\n",
       "\n",
       "    .dataframe tbody tr th {\n",
       "        vertical-align: top;\n",
       "    }\n",
       "\n",
       "    .dataframe thead th {\n",
       "        text-align: right;\n",
       "    }\n",
       "</style>\n",
       "<table border=\"1\" class=\"dataframe\">\n",
       "  <thead>\n",
       "    <tr style=\"text-align: right;\">\n",
       "      <th></th>\n",
       "      <th>name</th>\n",
       "      <th>location</th>\n",
       "    </tr>\n",
       "  </thead>\n",
       "  <tbody>\n",
       "    <tr>\n",
       "      <th>0</th>\n",
       "      <td>Rathiga</td>\n",
       "      <td>Singapore</td>\n",
       "    </tr>\n",
       "  </tbody>\n",
       "</table>\n",
       "</div>"
      ],
      "text/plain": [
       "      name   location\n",
       "0  Rathiga  Singapore"
      ]
     },
     "execution_count": 15,
     "metadata": {},
     "output_type": "execute_result"
    }
   ],
   "source": [
    "import pandas as pd\n",
    "import ast\n",
    "\n",
    "# Input string\n",
    "#data_str = \"{'name': 'Ramisha', 'location': 'Coimbatore'}\"\n",
    "data_str=summary[0]\n",
    "# Convert string to dictionary\n",
    "data_dict = ast.literal_eval(data_str)\n",
    "\n",
    "# Convert dictionary to DataFrame\n",
    "df = pd.DataFrame([data_dict])\n",
    "\n",
    "df\n"
   ]
  },
  {
   "cell_type": "code",
   "execution_count": 16,
   "id": "3c554053-49b1-4151-a82d-de7bd0d96d5e",
   "metadata": {},
   "outputs": [],
   "source": [
    "df[\"TopicPreference\"]=summary[1]"
   ]
  },
  {
   "cell_type": "code",
   "execution_count": 17,
   "id": "4fdc3fa0-e84d-4f85-8b78-c1b36ad97fa2",
   "metadata": {},
   "outputs": [
    {
     "data": {
      "text/html": [
       "<div>\n",
       "<style scoped>\n",
       "    .dataframe tbody tr th:only-of-type {\n",
       "        vertical-align: middle;\n",
       "    }\n",
       "\n",
       "    .dataframe tbody tr th {\n",
       "        vertical-align: top;\n",
       "    }\n",
       "\n",
       "    .dataframe thead th {\n",
       "        text-align: right;\n",
       "    }\n",
       "</style>\n",
       "<table border=\"1\" class=\"dataframe\">\n",
       "  <thead>\n",
       "    <tr style=\"text-align: right;\">\n",
       "      <th></th>\n",
       "      <th>name</th>\n",
       "      <th>location</th>\n",
       "      <th>TopicPreference</th>\n",
       "    </tr>\n",
       "  </thead>\n",
       "  <tbody>\n",
       "    <tr>\n",
       "      <th>0</th>\n",
       "      <td>Rathiga</td>\n",
       "      <td>Singapore</td>\n",
       "      <td>I’m particularly drawn to content that spans a...</td>\n",
       "    </tr>\n",
       "  </tbody>\n",
       "</table>\n",
       "</div>"
      ],
      "text/plain": [
       "      name   location                                    TopicPreference\n",
       "0  Rathiga  Singapore  I’m particularly drawn to content that spans a..."
      ]
     },
     "execution_count": 17,
     "metadata": {},
     "output_type": "execute_result"
    }
   ],
   "source": [
    "df"
   ]
  },
  {
   "cell_type": "code",
   "execution_count": 18,
   "id": "8fc39ceb-3627-4f04-9b3e-8d6f8857f8b1",
   "metadata": {},
   "outputs": [],
   "source": [
    "df[\"Enagement\"]=summary[2]"
   ]
  },
  {
   "cell_type": "code",
   "execution_count": 19,
   "id": "3adc3e08-2c15-4b79-a20a-640b1f1930c3",
   "metadata": {},
   "outputs": [
    {
     "data": {
      "text/html": [
       "<div>\n",
       "<style scoped>\n",
       "    .dataframe tbody tr th:only-of-type {\n",
       "        vertical-align: middle;\n",
       "    }\n",
       "\n",
       "    .dataframe tbody tr th {\n",
       "        vertical-align: top;\n",
       "    }\n",
       "\n",
       "    .dataframe thead th {\n",
       "        text-align: right;\n",
       "    }\n",
       "</style>\n",
       "<table border=\"1\" class=\"dataframe\">\n",
       "  <thead>\n",
       "    <tr style=\"text-align: right;\">\n",
       "      <th></th>\n",
       "      <th>name</th>\n",
       "      <th>location</th>\n",
       "      <th>TopicPreference</th>\n",
       "      <th>Enagement</th>\n",
       "    </tr>\n",
       "  </thead>\n",
       "  <tbody>\n",
       "    <tr>\n",
       "      <th>0</th>\n",
       "      <td>Rathiga</td>\n",
       "      <td>Singapore</td>\n",
       "      <td>I’m particularly drawn to content that spans a...</td>\n",
       "      <td>User seeks engaging reads that blend AI, emerg...</td>\n",
       "    </tr>\n",
       "  </tbody>\n",
       "</table>\n",
       "</div>"
      ],
      "text/plain": [
       "      name   location                                    TopicPreference  \\\n",
       "0  Rathiga  Singapore  I’m particularly drawn to content that spans a...   \n",
       "\n",
       "                                           Enagement  \n",
       "0  User seeks engaging reads that blend AI, emerg...  "
      ]
     },
     "execution_count": 19,
     "metadata": {},
     "output_type": "execute_result"
    }
   ],
   "source": [
    "df"
   ]
  },
  {
   "cell_type": "code",
   "execution_count": null,
   "id": "2e0e5c73-a792-46d9-8c2a-f2e239d22502",
   "metadata": {},
   "outputs": [],
   "source": []
  },
  {
   "cell_type": "code",
   "execution_count": null,
   "id": "b4d05d9f-ebe9-4869-a7fa-ae3e7c24ddea",
   "metadata": {},
   "outputs": [],
   "source": []
  },
  {
   "cell_type": "code",
   "execution_count": 50,
   "id": "6fac8d38-bced-449a-967f-f1d46830bc21",
   "metadata": {},
   "outputs": [],
   "source": [
    "# !pip install gspread\n",
    "# !pip install oauth2client\n",
    "# !pip install gspread_formatting"
   ]
  },
  {
   "cell_type": "code",
   "execution_count": 55,
   "id": "ece6177a-5bcf-419e-accb-119df7bf306a",
   "metadata": {},
   "outputs": [],
   "source": [
    "def add_leads_to_google_sheet(df):\n",
    "    import gspread\n",
    "    from oauth2client.service_account import ServiceAccountCredentials\n",
    "    from gspread_formatting import format_cell_range, CellFormat, TextFormat\n",
    "\n",
    "\n",
    "    # Define the scope for Google Sheets API\n",
    "    scope = [\"https://www.googleapis.com/auth/spreadsheets\",\"https://www.googleapis.com/auth/drive\"]\n",
    "    # Add credentials to the account\n",
    "    creds = ServiceAccountCredentials.from_json_keyfile_name(\n",
    "        'firm-circlet-468504-h0-157edabda0a2.json', scope\n",
    "    )\n",
    "\n",
    "    # Authorize the client\n",
    "    client = gspread.authorize(creds)\n",
    "\n",
    "    # Specify the Google Sheet ID\n",
    "    sheet_id = '1h47faix8YqGKq-9uxZ_3daWczMpKH-bQnQDAMcV0pNo'\n",
    "\n",
    "    # Open the spreadsheet using its ID\n",
    "    spreadsheet = client.open_by_key(sheet_id)\n",
    "\n",
    "    # Select the first worksheet (index 0)\n",
    "    worksheet = spreadsheet.get_worksheet(0)\n",
    "\n",
    "    # Append each row of the DataFrame to the worksheet\n",
    "    for _, row in df.iterrows():\n",
    "        # Convert row to a list and append to the sheet\n",
    "        worksheet.append_row(row.tolist())\n",
    "    # Apply wrap text formatting to all cells\n",
    "    fmt = CellFormat(wrapStrategy='WRAP')\n",
    "    format_cell_range(worksheet, 'A:Z', fmt)  # A:Z = first 26 columns\n",
    "\n",
    "    print(\"Data added successfully!\")\n",
    "    return \"added\"\n"
   ]
  },
  {
   "cell_type": "code",
   "execution_count": null,
   "id": "1442edc3-af9c-438c-885e-fe643f612646",
   "metadata": {},
   "outputs": [],
   "source": [
    "def add_leads_to_google_sheet(df):\n",
    "    import gspread\n",
    "    from oauth2client.service_account import ServiceAccountCredentials\n",
    "    from gspread_formatting import format_cell_range, CellFormat, TextFormat\n",
    "\n",
    "\n",
    "    # Define the scope for Google Sheets API\n",
    "    scope = [\"https://www.googleapis.com/auth/spreadsheets\",\"https://www.googleapis.com/auth/drive\"]\n",
    "    # Add credentials to the account\n",
    "    creds = ServiceAccountCredentials.from_json_keyfile_name(\n",
    "        '<your json>', scope\n",
    "    )\n",
    "\n",
    "    # Authorize the client\n",
    "    client = gspread.authorize(creds)\n",
    "\n",
    "    # Specify the Google Sheet ID\n",
    "    sheet_id = '<sheet ID>'\n",
    "\n",
    "    # Open the spreadsheet using its ID\n",
    "    spreadsheet = client.open_by_key(sheet_id)\n",
    "\n",
    "    # Select the first worksheet (index 0)\n",
    "    worksheet = spreadsheet.get_worksheet(0)\n",
    "\n",
    "    # Append each row of the DataFrame to the worksheet\n",
    "    for _, row in df.iterrows():\n",
    "        # Convert row to a list and append to the sheet\n",
    "        worksheet.append_row(row.tolist())\n",
    "    # Apply wrap text formatting to all cells\n",
    "    fmt = CellFormat(wrapStrategy='WRAP')\n",
    "    format_cell_range(worksheet, 'A:Z', fmt)  # A:Z = first 26 columns\n",
    "\n",
    "    print(\"Data added successfully!\")\n",
    "    return \"added\"\n"
   ]
  },
  {
   "cell_type": "code",
   "execution_count": 56,
   "id": "fe450b66-964e-4f35-88ae-f6596ab2b04a",
   "metadata": {},
   "outputs": [
    {
     "name": "stdout",
     "output_type": "stream",
     "text": [
      "Data added successfully!\n"
     ]
    },
    {
     "data": {
      "text/plain": [
       "'added'"
      ]
     },
     "execution_count": 56,
     "metadata": {},
     "output_type": "execute_result"
    }
   ],
   "source": [
    "add_leads_to_google_sheet(df)"
   ]
  },
  {
   "cell_type": "markdown",
   "id": "a674c4eb",
   "metadata": {},
   "source": [
    "## Print out the cost"
   ]
  },
  {
   "cell_type": "code",
   "execution_count": 57,
   "id": "8b82a10a-afe5-4ba3-97b4-41c8c14b739f",
   "metadata": {
    "height": 64
   },
   "outputs": [
    {
     "name": "stdout",
     "output_type": "stream",
     "text": [
      "{'usage_including_cached_inference': {'total_cost': 0, 'gpt-oss:latest': {'cost': 0, 'prompt_tokens': 125, 'completion_tokens': 251, 'total_tokens': 376}}, 'usage_excluding_cached_inference': {'total_cost': 0, 'gpt-oss:latest': {'cost': 0, 'prompt_tokens': 125, 'completion_tokens': 251, 'total_tokens': 376}}}\n",
      "\n",
      "\n",
      "{'usage_including_cached_inference': {'total_cost': 0, 'gpt-oss:latest': {'cost': 0, 'prompt_tokens': 129, 'completion_tokens': 480, 'total_tokens': 609}}, 'usage_excluding_cached_inference': {'total_cost': 0, 'gpt-oss:latest': {'cost': 0, 'prompt_tokens': 129, 'completion_tokens': 480, 'total_tokens': 609}}}\n",
      "\n",
      "\n",
      "{'usage_including_cached_inference': {'total_cost': 0, 'gpt-oss:latest': {'cost': 0, 'prompt_tokens': 1146, 'completion_tokens': 801, 'total_tokens': 1947}}, 'usage_excluding_cached_inference': {'total_cost': 0, 'gpt-oss:latest': {'cost': 0, 'prompt_tokens': 1146, 'completion_tokens': 801, 'total_tokens': 1947}}}\n",
      "\n",
      "\n"
     ]
    }
   ],
   "source": [
    "for chat_result in chat_results:\n",
    "    print(chat_result.cost)\n",
    "    print(\"\\n\")"
   ]
  },
  {
   "cell_type": "code",
   "execution_count": null,
   "id": "747732e0-d8de-4555-aa49-bf42f854b6a6",
   "metadata": {},
   "outputs": [],
   "source": []
  },
  {
   "cell_type": "code",
   "execution_count": null,
   "id": "a3cf8b33-6682-4acd-b285-ec766fb2a5eb",
   "metadata": {},
   "outputs": [],
   "source": []
  }
 ],
 "metadata": {
  "kernelspec": {
   "display_name": "Python 3 (ipykernel)",
   "language": "python",
   "name": "python3"
  },
  "language_info": {
   "codemirror_mode": {
    "name": "ipython",
    "version": 3
   },
   "file_extension": ".py",
   "mimetype": "text/x-python",
   "name": "python",
   "nbconvert_exporter": "python",
   "pygments_lexer": "ipython3",
   "version": "3.10.18"
  }
 },
 "nbformat": 4,
 "nbformat_minor": 5
}
